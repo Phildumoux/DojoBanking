{
 "cells": [
  {
   "cell_type": "markdown",
   "source": [
    "# Modélisation d'un modèle baseline\n",
    "- On va créer un premier modèle très rapide pour voir les premières performances que l'on peut espérer"
   ],
   "metadata": {
    "collapsed": false
   }
  },
  {
   "cell_type": "markdown",
   "source": [
    "### Chargement des données"
   ],
   "metadata": {
    "collapsed": false
   }
  },
  {
   "cell_type": "code",
   "execution_count": null,
   "outputs": [],
   "source": [
    "import pandas as pd\n",
    "from src.data_eng.prepare_db import *\n",
    "\n",
    "full_dataset = load_dataset(\"telco_prepared.csv\")\n",
    "print(\"Le dataset contient\", len(full_dataset), \"lignes\")"
   ],
   "metadata": {
    "collapsed": false
   }
  },
  {
   "cell_type": "markdown",
   "source": [
    "Liste des colonnes:"
   ],
   "metadata": {
    "collapsed": false
   }
  },
  {
   "cell_type": "code",
   "execution_count": null,
   "outputs": [],
   "source": [
    "print(full_dataset.columns)"
   ],
   "metadata": {
    "collapsed": false
   }
  },
  {
   "cell_type": "markdown",
   "source": [
    "### Définition des types de variables\n",
    "- Features en entrée par type"
   ],
   "metadata": {
    "collapsed": false
   }
  },
  {
   "cell_type": "code",
   "execution_count": null,
   "outputs": [],
   "source": [
    "usefull_columns = ['Gender', 'Senior Citizen',\n",
    "                   'Partner', 'Dependents', 'Tenure Months', 'Phone Service',\n",
    "                   'Multiple Lines', 'Internet Service', 'Online Security',\n",
    "                   'Online Backup', 'Device Protection', 'Tech Support', 'Streaming TV',\n",
    "                   'Streaming Movies', 'Contract', 'Paperless Billing', 'Payment Method',\n",
    "                   'Monthly Charges', 'Total Charges', 'CLTV', 'Churn Label', 'zip_code_twofirst_digit']\n",
    "full_dataset = full_dataset[usefull_columns]\n",
    "features = full_dataset.columns\n",
    "continuous_features = [col for col in features if full_dataset[col].dtype != 'object']\n",
    "print(\"Variables continues:\", continuous_features)\n",
    "categorical_features = [col for col in features if full_dataset[col].dtype == 'object']\n",
    "print(\"Variables categoriques:\", categorical_features)\n",
    "# On vérifie qu'on oublie rien (des dates ou autres)\n",
    "print(\"Toutes les variables sont prises en compte:\",\n",
    "      (set(categorical_features).union(continuous_features)).difference(set(features)))"
   ],
   "metadata": {
    "collapsed": false
   }
  },
  {
   "cell_type": "markdown",
   "source": [
    "On réattribue les bons typages"
   ],
   "metadata": {
    "collapsed": false
   }
  },
  {
   "cell_type": "code",
   "execution_count": null,
   "outputs": [],
   "source": [
    "continuous_features = ['Tenure Months', 'Monthly Charges', 'Total Charges', 'CLTV']\n",
    "categorical_features = ['Gender', 'Senior Citizen', 'Partner', 'Dependents', 'Phone Service', 'Multiple Lines',\n",
    "                        'Internet Service', 'Online Security', 'Online Backup', 'Device Protection', 'Tech Support',\n",
    "                        'Streaming TV', 'Streaming Movies', 'Contract', 'Paperless Billing', 'Payment Method', 'zip_code_twofirst_digit']"
   ],
   "metadata": {
    "collapsed": false
   }
  },
  {
   "cell_type": "markdown",
   "source": [
    "Réencodage de la cible"
   ],
   "metadata": {
    "collapsed": false
   }
  },
  {
   "cell_type": "code",
   "execution_count": null,
   "outputs": [],
   "source": [
    "target_column = \"Churn Label\"\n",
    "full_dataset[target_column] = full_dataset[target_column].map({\"Yes\": 1, \"No\": 0})\n",
    "print(full_dataset[target_column].unique())"
   ],
   "metadata": {
    "collapsed": false
   }
  },
  {
   "cell_type": "markdown",
   "source": [
    "\n",
    "### On encode les variables catégoriques avec du one-hot encoding"
   ],
   "metadata": {
    "collapsed": false
   }
  },
  {
   "cell_type": "code",
   "execution_count": null,
   "outputs": [],
   "source": [
    "full_dataset_encoded = pd.get_dummies(full_dataset, columns=categorical_features, drop_first=True)"
   ],
   "metadata": {
    "collapsed": false
   }
  },
  {
   "cell_type": "markdown",
   "source": [
    "### On divise le dataset en train/test/valid"
   ],
   "metadata": {
    "collapsed": false
   }
  },
  {
   "cell_type": "code",
   "execution_count": null,
   "outputs": [],
   "source": [
    "train, test, valid = split_dataset(full_dataset_encoded, 0.7, 0.85)"
   ],
   "metadata": {
    "collapsed": false
   }
  },
  {
   "cell_type": "markdown",
   "source": [
    "### Gérons les valeurs manquantes qui sont pas gérées par la régression logistique"
   ],
   "metadata": {
    "collapsed": false
   }
  },
  {
   "cell_type": "markdown",
   "source": [
    "- Attention à fiter que sur train pour pas tricher sur la moyenne"
   ],
   "metadata": {
    "collapsed": false
   }
  },
  {
   "cell_type": "code",
   "execution_count": null,
   "outputs": [],
   "source": [
    "from sklearn.impute import SimpleImputer\n",
    "imp = SimpleImputer(missing_values=np.nan, strategy='mean')\n",
    "imp.fit(train[[\"Total Charges\"]])\n",
    "train[\"Total Charges\"] = imp.transform(train[[\"Total Charges\"]])\n",
    "test[\"Total Charges\"] = imp.transform(test[[\"Total Charges\"]])\n",
    "valid[\"Total Charges\"] = imp.transform(valid[[\"Total Charges\"]])\n"
   ],
   "metadata": {
    "collapsed": false
   }
  },
  {
   "cell_type": "code",
   "execution_count": null,
   "outputs": [],
   "source": [
    " # fonction custom mais on peut utiliser sklearn\n",
    "train_targets = train[target_column]\n",
    "test_targets = test[target_column]\n",
    "valid_targets = valid[target_column]\n",
    "train = train.drop(columns=[target_column])\n",
    "test = test.drop(columns=[target_column])\n",
    "valid = valid.drop(columns=[target_column])\n",
    "print(\"train:\", len(train), \"test\", len(test), \"valid\", len(valid))"
   ],
   "metadata": {
    "collapsed": false
   }
  },
  {
   "cell_type": "markdown",
   "source": [
    "### Apprentissage de la régression logistique"
   ],
   "metadata": {
    "collapsed": false
   }
  },
  {
   "cell_type": "code",
   "execution_count": null,
   "outputs": [],
   "source": [
    "from sklearn.linear_model import LogisticRegression\n",
    "final_model = LogisticRegression()\n",
    "final_model.fit(train,train_targets)\n"
   ],
   "metadata": {
    "collapsed": false
   }
  },
  {
   "cell_type": "markdown",
   "source": [
    "### Performance du modèle en test"
   ],
   "metadata": {
    "collapsed": false
   }
  },
  {
   "cell_type": "code",
   "execution_count": null,
   "outputs": [],
   "source": [
    "from sklearn.metrics import classification_report\n",
    "from sklearn.metrics import classification_report,auc,roc_curve\n",
    "print(\"Distribution de la cible en test :\", valid_targets.value_counts())\n",
    "prediction = final_model.predict(valid)\n",
    "disp = classification_report(valid_targets, prediction)\n",
    "print(\"Performance en validation:\\n\", disp)\n",
    "fpr, tpr, thresholds = roc_curve(valid_targets, prediction, pos_label=1)\n",
    "print(\"AUC:\",auc(fpr, tpr))"
   ],
   "metadata": {
    "collapsed": false
   }
  },
  {
   "cell_type": "markdown",
   "source": [
    "### Performance du modèle sur train\n",
    "Permet de checker l'overfitting"
   ],
   "metadata": {
    "collapsed": false
   }
  },
  {
   "cell_type": "code",
   "execution_count": null,
   "outputs": [],
   "source": [
    "prediction = final_model.predict(train)\n",
    "disp = classification_report(train_targets, prediction)\n",
    "print(\"Performance en train:\\n\", disp)\n",
    "fpr, tpr, thresholds = roc_curve(train_targets, prediction, pos_label=1)\n",
    "print(\"AUC:\",auc(fpr, tpr))"
   ],
   "metadata": {
    "collapsed": false
   }
  },
  {
   "cell_type": "markdown",
   "source": [],
   "metadata": {
    "collapsed": false
   }
  }
 ],
 "metadata": {
  "kernelspec": {
   "display_name": "Python 3",
   "language": "python",
   "name": "python3"
  },
  "language_info": {
   "codemirror_mode": {
    "name": "ipython",
    "version": 2
   },
   "file_extension": ".py",
   "mimetype": "text/x-python",
   "name": "python",
   "nbconvert_exporter": "python",
   "pygments_lexer": "ipython2",
   "version": "2.7.6"
  }
 },
 "nbformat": 4,
 "nbformat_minor": 0
}
