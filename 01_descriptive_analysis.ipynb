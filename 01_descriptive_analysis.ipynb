{
 "cells": [
  {
   "cell_type": "markdown",
   "source": [
    "# Chargement des données et analyse descriptive\n",
    " L'objectif est d'avoir une vision d'ensemble des données en entre et des valeurs manquantes"
   ],
   "metadata": {
    "collapsed": false
   }
  },
  {
   "cell_type": "code",
   "execution_count": 2,
   "outputs": [],
   "source": [
    "from pandas_profiling import ProfileReport\n",
    "from src.data_eng.prepare_db import *\n",
    "full_dataset = load_dataset(\"bank-additional-full.csv\")"
   ],
   "metadata": {
    "collapsed": false
   }
  },
  {
   "cell_type": "markdown",
   "source": [
    "## Rapport descriptif généré avec Pandas profiling\n",
    "- Stats descriptives de variables\n",
    "- Taux de cible\n",
    "- Valeurs manquantes\n",
    "- Corrélations"
   ],
   "metadata": {
    "collapsed": false
   }
  },
  {
   "cell_type": "code",
   "execution_count": 1,
   "outputs": [
    {
     "ename": "NameError",
     "evalue": "name 'ProfileReport' is not defined",
     "output_type": "error",
     "traceback": [
      "\u001B[0;31m---------------------------------------------------------------------------\u001B[0m",
      "\u001B[0;31mNameError\u001B[0m                                 Traceback (most recent call last)",
      "Cell \u001B[0;32mIn[1], line 1\u001B[0m\n\u001B[0;32m----> 1\u001B[0m profile \u001B[38;5;241m=\u001B[39m \u001B[43mProfileReport\u001B[49m(full_dataset, title\u001B[38;5;241m=\u001B[39m\u001B[38;5;124m\"\u001B[39m\u001B[38;5;124mPandas Profiling Report\u001B[39m\u001B[38;5;124m\"\u001B[39m)\n\u001B[1;32m      2\u001B[0m \u001B[38;5;66;03m#profile.to_notebook_iframe()\u001B[39;00m\n\u001B[1;32m      3\u001B[0m \u001B[38;5;66;03m#profile.to_widgets()\u001B[39;00m\n\u001B[1;32m      4\u001B[0m \u001B[38;5;66;03m#profile.to_file(\"output/summary.html\")\u001B[39;00m\n",
      "\u001B[0;31mNameError\u001B[0m: name 'ProfileReport' is not defined"
     ]
    }
   ],
   "source": [
    "profile = ProfileReport(full_dataset, title=\"Pandas Profiling Report\")\n",
    "profile.to_notebook_iframe()\n",
    "profile.to_file(\"output/summary.html\")\n",
    "\n",
    "\n"
   ],
   "metadata": {
    "collapsed": false
   }
  }
 ],
 "metadata": {
  "kernelspec": {
   "display_name": "Python 3",
   "language": "python",
   "name": "python3"
  },
  "language_info": {
   "codemirror_mode": {
    "name": "ipython",
    "version": 2
   },
   "file_extension": ".py",
   "mimetype": "text/x-python",
   "name": "python",
   "nbconvert_exporter": "python",
   "pygments_lexer": "ipython2",
   "version": "2.7.6"
  }
 },
 "nbformat": 4,
 "nbformat_minor": 0
}
